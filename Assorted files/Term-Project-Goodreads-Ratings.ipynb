{
 "cells": [
  {
   "cell_type": "markdown",
   "metadata": {},
   "source": [
    "<h3>\n",
    "Name: Jonathan Lawrence<br/>\n",
    "Date: 8/5/2019<br/>\n",
    "Term Project: Predicting Goodreads Ratings<br/>\n",
    "</h3>"
   ]
  },
  {
   "cell_type": "markdown",
   "metadata": {},
   "source": [
    "<b>Objective</b>: A book's rating on Goodreads can be predicted by looking at specific information about previously rated books.\n",
    "\n",
    "<b>Dataset</b>: 'book_data.csv'<br/>\n",
    "<b>Acquired from</b>: https://www.kaggle.com/meetnaren/goodreads-best-books"
   ]
  },
  {
   "cell_type": "markdown",
   "metadata": {},
   "source": [
    "## SETUP"
   ]
  },
  {
   "cell_type": "code",
   "execution_count": 1,
   "metadata": {},
   "outputs": [
    {
     "data": {
      "text/html": [
       "<div>\n",
       "<style scoped>\n",
       "    .dataframe tbody tr th:only-of-type {\n",
       "        vertical-align: middle;\n",
       "    }\n",
       "\n",
       "    .dataframe tbody tr th {\n",
       "        vertical-align: top;\n",
       "    }\n",
       "\n",
       "    .dataframe thead th {\n",
       "        text-align: right;\n",
       "    }\n",
       "</style>\n",
       "<table border=\"1\" class=\"dataframe\">\n",
       "  <thead>\n",
       "    <tr style=\"text-align: right;\">\n",
       "      <th></th>\n",
       "      <th>book_authors</th>\n",
       "      <th>book_desc</th>\n",
       "      <th>book_edition</th>\n",
       "      <th>book_format</th>\n",
       "      <th>book_isbn</th>\n",
       "      <th>book_pages</th>\n",
       "      <th>book_rating</th>\n",
       "      <th>book_rating_count</th>\n",
       "      <th>book_review_count</th>\n",
       "      <th>book_title</th>\n",
       "      <th>genres</th>\n",
       "      <th>image_url</th>\n",
       "    </tr>\n",
       "  </thead>\n",
       "  <tbody>\n",
       "    <tr>\n",
       "      <th>0</th>\n",
       "      <td>Suzanne Collins</td>\n",
       "      <td>Winning will make you famous. Losing means cer...</td>\n",
       "      <td>NaN</td>\n",
       "      <td>Hardcover</td>\n",
       "      <td>9.78044E+12</td>\n",
       "      <td>374 pages</td>\n",
       "      <td>4.33</td>\n",
       "      <td>5519135</td>\n",
       "      <td>160706</td>\n",
       "      <td>The Hunger Games</td>\n",
       "      <td>Young Adult|Fiction|Science Fiction|Dystopia|F...</td>\n",
       "      <td>https://images.gr-assets.com/books/1447303603l...</td>\n",
       "    </tr>\n",
       "    <tr>\n",
       "      <th>1</th>\n",
       "      <td>J.K. Rowling|Mary GrandPré</td>\n",
       "      <td>There is a door at the end of a silent corrido...</td>\n",
       "      <td>US Edition</td>\n",
       "      <td>Paperback</td>\n",
       "      <td>9.78044E+12</td>\n",
       "      <td>870 pages</td>\n",
       "      <td>4.48</td>\n",
       "      <td>2041594</td>\n",
       "      <td>33264</td>\n",
       "      <td>Harry Potter and the Order of the Phoenix</td>\n",
       "      <td>Fantasy|Young Adult|Fiction</td>\n",
       "      <td>https://images.gr-assets.com/books/1255614970l...</td>\n",
       "    </tr>\n",
       "    <tr>\n",
       "      <th>2</th>\n",
       "      <td>Harper Lee</td>\n",
       "      <td>The unforgettable novel of a childhood in a sl...</td>\n",
       "      <td>50th Anniversary</td>\n",
       "      <td>Paperback</td>\n",
       "      <td>9.78006E+12</td>\n",
       "      <td>324 pages</td>\n",
       "      <td>4.27</td>\n",
       "      <td>3745197</td>\n",
       "      <td>79450</td>\n",
       "      <td>To Kill a Mockingbird</td>\n",
       "      <td>Classics|Fiction|Historical|Historical Fiction...</td>\n",
       "      <td>https://images.gr-assets.com/books/1361975680l...</td>\n",
       "    </tr>\n",
       "    <tr>\n",
       "      <th>3</th>\n",
       "      <td>Jane Austen|Anna Quindlen|Mrs. Oliphant|George...</td>\n",
       "      <td>«È cosa ormai risaputa che a uno scapolo in po...</td>\n",
       "      <td>Modern Library Classics, USA / CAN</td>\n",
       "      <td>Paperback</td>\n",
       "      <td>9.78068E+12</td>\n",
       "      <td>279 pages</td>\n",
       "      <td>4.25</td>\n",
       "      <td>2453620</td>\n",
       "      <td>54322</td>\n",
       "      <td>Pride and Prejudice</td>\n",
       "      <td>Classics|Fiction|Romance</td>\n",
       "      <td>https://images.gr-assets.com/books/1320399351l...</td>\n",
       "    </tr>\n",
       "    <tr>\n",
       "      <th>4</th>\n",
       "      <td>Stephenie Meyer</td>\n",
       "      <td>About three things I was absolutely positive.F...</td>\n",
       "      <td>NaN</td>\n",
       "      <td>Paperback</td>\n",
       "      <td>9.78032E+12</td>\n",
       "      <td>498 pages</td>\n",
       "      <td>3.58</td>\n",
       "      <td>4281268</td>\n",
       "      <td>97991</td>\n",
       "      <td>Twilight</td>\n",
       "      <td>Young Adult|Fantasy|Romance|Paranormal|Vampire...</td>\n",
       "      <td>https://images.gr-assets.com/books/1361039443l...</td>\n",
       "    </tr>\n",
       "  </tbody>\n",
       "</table>\n",
       "</div>"
      ],
      "text/plain": [
       "                                        book_authors  \\\n",
       "0                                    Suzanne Collins   \n",
       "1                         J.K. Rowling|Mary GrandPré   \n",
       "2                                         Harper Lee   \n",
       "3  Jane Austen|Anna Quindlen|Mrs. Oliphant|George...   \n",
       "4                                    Stephenie Meyer   \n",
       "\n",
       "                                           book_desc  \\\n",
       "0  Winning will make you famous. Losing means cer...   \n",
       "1  There is a door at the end of a silent corrido...   \n",
       "2  The unforgettable novel of a childhood in a sl...   \n",
       "3  «È cosa ormai risaputa che a uno scapolo in po...   \n",
       "4  About three things I was absolutely positive.F...   \n",
       "\n",
       "                         book_edition book_format    book_isbn book_pages  \\\n",
       "0                                 NaN   Hardcover  9.78044E+12  374 pages   \n",
       "1                          US Edition   Paperback  9.78044E+12  870 pages   \n",
       "2                    50th Anniversary   Paperback  9.78006E+12  324 pages   \n",
       "3  Modern Library Classics, USA / CAN   Paperback  9.78068E+12  279 pages   \n",
       "4                                 NaN   Paperback  9.78032E+12  498 pages   \n",
       "\n",
       "   book_rating  book_rating_count  book_review_count  \\\n",
       "0         4.33            5519135             160706   \n",
       "1         4.48            2041594              33264   \n",
       "2         4.27            3745197              79450   \n",
       "3         4.25            2453620              54322   \n",
       "4         3.58            4281268              97991   \n",
       "\n",
       "                                  book_title  \\\n",
       "0                           The Hunger Games   \n",
       "1  Harry Potter and the Order of the Phoenix   \n",
       "2                      To Kill a Mockingbird   \n",
       "3                        Pride and Prejudice   \n",
       "4                                   Twilight   \n",
       "\n",
       "                                              genres  \\\n",
       "0  Young Adult|Fiction|Science Fiction|Dystopia|F...   \n",
       "1                        Fantasy|Young Adult|Fiction   \n",
       "2  Classics|Fiction|Historical|Historical Fiction...   \n",
       "3                           Classics|Fiction|Romance   \n",
       "4  Young Adult|Fantasy|Romance|Paranormal|Vampire...   \n",
       "\n",
       "                                           image_url  \n",
       "0  https://images.gr-assets.com/books/1447303603l...  \n",
       "1  https://images.gr-assets.com/books/1255614970l...  \n",
       "2  https://images.gr-assets.com/books/1361975680l...  \n",
       "3  https://images.gr-assets.com/books/1320399351l...  \n",
       "4  https://images.gr-assets.com/books/1361039443l...  "
      ]
     },
     "execution_count": 1,
     "metadata": {},
     "output_type": "execute_result"
    }
   ],
   "source": [
    "import pandas as pd\n",
    "import numpy as np\n",
    "import matplotlib.pyplot as plt\n",
    "import seaborn as sns\n",
    "import thinkstats2\n",
    "import thinkplot\n",
    "\n",
    "df = pd.read_csv('book_data.csv')\n",
    "\n",
    "df.head()"
   ]
  },
  {
   "cell_type": "markdown",
   "metadata": {},
   "source": [
    "<b>Variables to consider (original)</b>:<br/>\n",
    " - book_authors (number of authors)<br/>\n",
    " - book_format (book format)<br/>\n",
    " - book_pages (number of pages)<br/>\n",
    " - book_rating_count (number of ratings)<br/>\n",
    " - book_title (book titles)<br/>"
   ]
  },
  {
   "cell_type": "markdown",
   "metadata": {},
   "source": [
    "## DATA CLEANING"
   ]
  },
  {
   "cell_type": "markdown",
   "metadata": {},
   "source": [
    "<b>Fixing 'book_authors'</b>"
   ]
  },
  {
   "cell_type": "code",
   "execution_count": 2,
   "metadata": {},
   "outputs": [],
   "source": [
    "# Drop NAN values\n",
    "df = df[df['book_pages'].notnull()]\n",
    "\n",
    "# Remove non-digit text\n",
    "df['book_pages'].replace(regex=True,inplace=True,to_replace=r'\\D',value=r'')\n",
    "\n",
    "# Convert values from float64 to int64\n",
    "df['book_pages'] = df['book_pages'].astype(np.int64)"
   ]
  },
  {
   "cell_type": "markdown",
   "metadata": {},
   "source": [
    "Calculate number of authors"
   ]
  },
  {
   "cell_type": "code",
   "execution_count": 3,
   "metadata": {},
   "outputs": [],
   "source": [
    "# Create a list to store the data\n",
    "number_of_authors = []\n",
    "\n",
    "# Count number of author separators '|' (not a slash)\n",
    "for row in df['book_authors']:\n",
    "    if row.count(\"|\") == 0:\n",
    "        authCount = 1\n",
    "    else:\n",
    "        authCount = row.count(\"|\") + 1\n",
    "    \n",
    "    number_of_authors.append(authCount)\n",
    "\n",
    "# Create a column from the list\n",
    "df['number_of_authors'] = number_of_authors"
   ]
  },
  {
   "cell_type": "markdown",
   "metadata": {},
   "source": [
    "<b>Fixing 'book_format'</b>"
   ]
  },
  {
   "cell_type": "markdown",
   "metadata": {},
   "source": [
    "Convert values with similar meanings and group arbitrary formats"
   ]
  },
  {
   "cell_type": "code",
   "execution_count": 4,
   "metadata": {},
   "outputs": [],
   "source": [
    "# Drop NAN values\n",
    "df = df[df['book_format'].notnull()]\n",
    "\n",
    "# Create lists for similar meanings\n",
    "audioBook = [\"Audible Audio\", \"Audio\", \"Audio Book\", \"Audio Cassette\", \"Audio CD\", \"Audiobook\", \"CD-ROM\", \"MP3 CD\"]\n",
    "ebook = [\"ebook\", \"eBook Kindle\"]\n",
    "hardcover = [\"Hard Cover\", \"Hardback\", \"hardbound\", \"Hardcover\"]\n",
    "paperback = [\"Large Paperback\", \"Mass Market Paperback\", \"Paper back\", \"Paperback\", \"Trade Paperback\"]\n",
    "\n",
    "# Create a list to store the data\n",
    "format_simplified = []\n",
    "\n",
    "# Detect book format. Set arbitrary formats to 'other'\n",
    "for row in df['book_format']:\n",
    "    if row in audioBook:\n",
    "        format_type = \"AudioBook\"\n",
    "    elif row in ebook:\n",
    "        format_type = \"Ebook\"\n",
    "    elif row in hardcover:\n",
    "        format_type = \"Hardcover\"\n",
    "    elif row in paperback:\n",
    "        format_type = \"Paperback\"\n",
    "    else:\n",
    "        format_type = \"Other\"\n",
    "\n",
    "    format_simplified.append(format_type)\n",
    "\n",
    "# Create a column from the list\n",
    "df['book_format_simplified'] = format_simplified"
   ]
  },
  {
   "cell_type": "markdown",
   "metadata": {},
   "source": [
    "<b>Fixing 'book_pages'</b>"
   ]
  },
  {
   "cell_type": "code",
   "execution_count": 5,
   "metadata": {},
   "outputs": [],
   "source": [
    "# Drop NAN and '0' values\n",
    "df = df[df['book_pages'].notnull()]\n",
    "df = df[df['book_pages'] != 0]"
   ]
  },
  {
   "cell_type": "markdown",
   "metadata": {},
   "source": [
    "<b>Fixing 'book_titles'</b>"
   ]
  },
  {
   "cell_type": "markdown",
   "metadata": {},
   "source": [
    "Count the number of words in the title"
   ]
  },
  {
   "cell_type": "code",
   "execution_count": 6,
   "metadata": {},
   "outputs": [],
   "source": [
    "# Drop NAN values\n",
    "df = df[df['book_title'].notnull()]\n",
    "\n",
    "# Create a list to store the data\n",
    "title_words = []\n",
    "\n",
    "# Count the words\n",
    "for row in df['book_title']:\n",
    "    if row.count(\" \") == 0:\n",
    "        wordCount = 1\n",
    "    else:\n",
    "        wordCount = row.count(\" \") + 1\n",
    "\n",
    "    title_words.append(wordCount)\n",
    "\n",
    "# Create a column from the list\n",
    "df['title_words'] = title_words"
   ]
  },
  {
   "cell_type": "markdown",
   "metadata": {},
   "source": [
    "Reorganize columns so that similar columns are side-by-side"
   ]
  },
  {
   "cell_type": "code",
   "execution_count": 7,
   "metadata": {},
   "outputs": [
    {
     "data": {
      "text/html": [
       "<div>\n",
       "<style scoped>\n",
       "    .dataframe tbody tr th:only-of-type {\n",
       "        vertical-align: middle;\n",
       "    }\n",
       "\n",
       "    .dataframe tbody tr th {\n",
       "        vertical-align: top;\n",
       "    }\n",
       "\n",
       "    .dataframe thead th {\n",
       "        text-align: right;\n",
       "    }\n",
       "</style>\n",
       "<table border=\"1\" class=\"dataframe\">\n",
       "  <thead>\n",
       "    <tr style=\"text-align: right;\">\n",
       "      <th></th>\n",
       "      <th>book_authors</th>\n",
       "      <th>number_of_authors</th>\n",
       "      <th>book_desc</th>\n",
       "      <th>book_edition</th>\n",
       "      <th>book_format</th>\n",
       "      <th>book_format_simplified</th>\n",
       "      <th>book_isbn</th>\n",
       "      <th>book_pages</th>\n",
       "      <th>book_rating</th>\n",
       "      <th>book_rating_count</th>\n",
       "      <th>book_review_count</th>\n",
       "      <th>book_title</th>\n",
       "      <th>title_words</th>\n",
       "      <th>genres</th>\n",
       "      <th>image_url</th>\n",
       "    </tr>\n",
       "  </thead>\n",
       "  <tbody>\n",
       "    <tr>\n",
       "      <th>0</th>\n",
       "      <td>Suzanne Collins</td>\n",
       "      <td>1</td>\n",
       "      <td>Winning will make you famous. Losing means cer...</td>\n",
       "      <td>NaN</td>\n",
       "      <td>Hardcover</td>\n",
       "      <td>Hardcover</td>\n",
       "      <td>9.78044E+12</td>\n",
       "      <td>374</td>\n",
       "      <td>4.33</td>\n",
       "      <td>5519135</td>\n",
       "      <td>160706</td>\n",
       "      <td>The Hunger Games</td>\n",
       "      <td>3</td>\n",
       "      <td>Young Adult|Fiction|Science Fiction|Dystopia|F...</td>\n",
       "      <td>https://images.gr-assets.com/books/1447303603l...</td>\n",
       "    </tr>\n",
       "    <tr>\n",
       "      <th>1</th>\n",
       "      <td>J.K. Rowling|Mary GrandPré</td>\n",
       "      <td>2</td>\n",
       "      <td>There is a door at the end of a silent corrido...</td>\n",
       "      <td>US Edition</td>\n",
       "      <td>Paperback</td>\n",
       "      <td>Paperback</td>\n",
       "      <td>9.78044E+12</td>\n",
       "      <td>870</td>\n",
       "      <td>4.48</td>\n",
       "      <td>2041594</td>\n",
       "      <td>33264</td>\n",
       "      <td>Harry Potter and the Order of the Phoenix</td>\n",
       "      <td>8</td>\n",
       "      <td>Fantasy|Young Adult|Fiction</td>\n",
       "      <td>https://images.gr-assets.com/books/1255614970l...</td>\n",
       "    </tr>\n",
       "    <tr>\n",
       "      <th>2</th>\n",
       "      <td>Harper Lee</td>\n",
       "      <td>1</td>\n",
       "      <td>The unforgettable novel of a childhood in a sl...</td>\n",
       "      <td>50th Anniversary</td>\n",
       "      <td>Paperback</td>\n",
       "      <td>Paperback</td>\n",
       "      <td>9.78006E+12</td>\n",
       "      <td>324</td>\n",
       "      <td>4.27</td>\n",
       "      <td>3745197</td>\n",
       "      <td>79450</td>\n",
       "      <td>To Kill a Mockingbird</td>\n",
       "      <td>4</td>\n",
       "      <td>Classics|Fiction|Historical|Historical Fiction...</td>\n",
       "      <td>https://images.gr-assets.com/books/1361975680l...</td>\n",
       "    </tr>\n",
       "    <tr>\n",
       "      <th>3</th>\n",
       "      <td>Jane Austen|Anna Quindlen|Mrs. Oliphant|George...</td>\n",
       "      <td>8</td>\n",
       "      <td>«È cosa ormai risaputa che a uno scapolo in po...</td>\n",
       "      <td>Modern Library Classics, USA / CAN</td>\n",
       "      <td>Paperback</td>\n",
       "      <td>Paperback</td>\n",
       "      <td>9.78068E+12</td>\n",
       "      <td>279</td>\n",
       "      <td>4.25</td>\n",
       "      <td>2453620</td>\n",
       "      <td>54322</td>\n",
       "      <td>Pride and Prejudice</td>\n",
       "      <td>3</td>\n",
       "      <td>Classics|Fiction|Romance</td>\n",
       "      <td>https://images.gr-assets.com/books/1320399351l...</td>\n",
       "    </tr>\n",
       "    <tr>\n",
       "      <th>4</th>\n",
       "      <td>Stephenie Meyer</td>\n",
       "      <td>1</td>\n",
       "      <td>About three things I was absolutely positive.F...</td>\n",
       "      <td>NaN</td>\n",
       "      <td>Paperback</td>\n",
       "      <td>Paperback</td>\n",
       "      <td>9.78032E+12</td>\n",
       "      <td>498</td>\n",
       "      <td>3.58</td>\n",
       "      <td>4281268</td>\n",
       "      <td>97991</td>\n",
       "      <td>Twilight</td>\n",
       "      <td>1</td>\n",
       "      <td>Young Adult|Fantasy|Romance|Paranormal|Vampire...</td>\n",
       "      <td>https://images.gr-assets.com/books/1361039443l...</td>\n",
       "    </tr>\n",
       "  </tbody>\n",
       "</table>\n",
       "</div>"
      ],
      "text/plain": [
       "                                        book_authors  number_of_authors  \\\n",
       "0                                    Suzanne Collins                  1   \n",
       "1                         J.K. Rowling|Mary GrandPré                  2   \n",
       "2                                         Harper Lee                  1   \n",
       "3  Jane Austen|Anna Quindlen|Mrs. Oliphant|George...                  8   \n",
       "4                                    Stephenie Meyer                  1   \n",
       "\n",
       "                                           book_desc  \\\n",
       "0  Winning will make you famous. Losing means cer...   \n",
       "1  There is a door at the end of a silent corrido...   \n",
       "2  The unforgettable novel of a childhood in a sl...   \n",
       "3  «È cosa ormai risaputa che a uno scapolo in po...   \n",
       "4  About three things I was absolutely positive.F...   \n",
       "\n",
       "                         book_edition book_format book_format_simplified  \\\n",
       "0                                 NaN   Hardcover              Hardcover   \n",
       "1                          US Edition   Paperback              Paperback   \n",
       "2                    50th Anniversary   Paperback              Paperback   \n",
       "3  Modern Library Classics, USA / CAN   Paperback              Paperback   \n",
       "4                                 NaN   Paperback              Paperback   \n",
       "\n",
       "     book_isbn  book_pages  book_rating  book_rating_count  book_review_count  \\\n",
       "0  9.78044E+12         374         4.33            5519135             160706   \n",
       "1  9.78044E+12         870         4.48            2041594              33264   \n",
       "2  9.78006E+12         324         4.27            3745197              79450   \n",
       "3  9.78068E+12         279         4.25            2453620              54322   \n",
       "4  9.78032E+12         498         3.58            4281268              97991   \n",
       "\n",
       "                                  book_title  title_words  \\\n",
       "0                           The Hunger Games            3   \n",
       "1  Harry Potter and the Order of the Phoenix            8   \n",
       "2                      To Kill a Mockingbird            4   \n",
       "3                        Pride and Prejudice            3   \n",
       "4                                   Twilight            1   \n",
       "\n",
       "                                              genres  \\\n",
       "0  Young Adult|Fiction|Science Fiction|Dystopia|F...   \n",
       "1                        Fantasy|Young Adult|Fiction   \n",
       "2  Classics|Fiction|Historical|Historical Fiction...   \n",
       "3                           Classics|Fiction|Romance   \n",
       "4  Young Adult|Fantasy|Romance|Paranormal|Vampire...   \n",
       "\n",
       "                                           image_url  \n",
       "0  https://images.gr-assets.com/books/1447303603l...  \n",
       "1  https://images.gr-assets.com/books/1255614970l...  \n",
       "2  https://images.gr-assets.com/books/1361975680l...  \n",
       "3  https://images.gr-assets.com/books/1320399351l...  \n",
       "4  https://images.gr-assets.com/books/1361039443l...  "
      ]
     },
     "execution_count": 7,
     "metadata": {},
     "output_type": "execute_result"
    }
   ],
   "source": [
    "# get a list of columns\n",
    "cols = list(df)\n",
    "\n",
    "# Move columns based on index\n",
    "cols.insert(1, cols.pop(cols.index('number_of_authors')))\n",
    "cols.insert(5, cols.pop(cols.index('book_format_simplified')))\n",
    "cols.insert(9, cols.pop(cols.index('book_rating_count')))\n",
    "cols.insert(12, cols.pop(cols.index('title_words')))\n",
    "\n",
    "# use ix to reorder\n",
    "df = df.loc[:, cols]\n",
    "\n",
    "# Check columns\n",
    "df.head()"
   ]
  },
  {
   "cell_type": "markdown",
   "metadata": {},
   "source": [
    "<b>Variables to consider (updated)</b>:<br/>\n",
    " - number_of_authors (number of authors)<br/>\n",
    " - book_format_simplified (book format)<br/>\n",
    " - book_pages (number of pages)<br/>\n",
    " - book_rating_count (number of ratings)<br/>\n",
    " - title_words (book titles)<br/>"
   ]
  },
  {
   "cell_type": "markdown",
   "metadata": {},
   "source": [
    "## HISTOGRAMS"
   ]
  },
  {
   "cell_type": "markdown",
   "metadata": {},
   "source": [
    "### Variable 1: number_of_authors"
   ]
  },
  {
   "cell_type": "code",
   "execution_count": 8,
   "metadata": {},
   "outputs": [
    {
     "data": {
      "text/plain": [
       "(0, 10)"
      ]
     },
     "execution_count": 8,
     "metadata": {},
     "output_type": "execute_result"
    },
    {
     "data": {
      "image/png": "[encoded data removed]",
      "text/plain": [
       "<Figure size 432x288 with 1 Axes>"
      ]
     },
     "metadata": {
      "needs_background": "light"
     },
     "output_type": "display_data"
    }
   ],
   "source": [
    "plt.hist(df.number_of_authors, bins=50)\n",
    "plt.title(\"# of authors\")\n",
    "plt.xlim([0,10])"
   ]
  },
  {
   "cell_type": "markdown",
   "metadata": {},
   "source": [
    "As expected, most books have only one author. There are a few outliers at 6+ authors, but we can assume they are collections of short stories or smaller, published works sold together as a set."
   ]
  },
  {
   "cell_type": "markdown",
   "metadata": {},
   "source": [
    "### Variable 2: book_format_simplified"
   ]
  },
  {
   "cell_type": "code",
   "execution_count": 9,
   "metadata": {},
   "outputs": [
    {
     "data": {
      "text/plain": [
       "Text(0.5,1,'Book Format')"
      ]
     },
     "execution_count": 9,
     "metadata": {},
     "output_type": "execute_result"
    },
    {
     "data": {
      "image/png": "[encoded data removed]",
      "text/plain": [
       "<Figure size 432x288 with 1 Axes>"
      ]
     },
     "metadata": {
      "needs_background": "light"
     },
     "output_type": "display_data"
    }
   ],
   "source": [
    "df['book_format_simplified'].value_counts().plot(kind='bar')\n",
    "plt.title(\"Book Format\")"
   ]
  },
  {
   "cell_type": "markdown",
   "metadata": {},
   "source": [
    "Most books with reviews are paperbacks. This could be due to publishing costs of hardcovers and/or technology required to access digital media. The outliers in this case would be the 'Other' category. It likely contains some books that would more closely match one of our primary formats, but the person who added these books in the data wrote a vauge description of the format."
   ]
  },
  {
   "cell_type": "markdown",
   "metadata": {},
   "source": [
    "### Variable 3: book_pages"
   ]
  },
  {
   "cell_type": "code",
   "execution_count": 10,
   "metadata": {},
   "outputs": [
    {
     "data": {
      "text/plain": [
       "(0, 1800)"
      ]
     },
     "execution_count": 10,
     "metadata": {},
     "output_type": "execute_result"
    },
    {
     "data": {
      "image/png": "[encoded data removed]",
      "text/plain": [
       "<Figure size 432x288 with 1 Axes>"
      ]
     },
     "metadata": {
      "needs_background": "light"
     },
     "output_type": "display_data"
    }
   ],
   "source": [
    "plt.hist(df.book_pages, bins=100)\n",
    "plt.title(\"Page Length\")\n",
    "plt.xlim([0,1800])"
   ]
  },
  {
   "cell_type": "markdown",
   "metadata": {},
   "source": [
    "A majority of books represented contain anywhere from 200-400 pages. There are some outliers with over 1000, but they are very infrequent."
   ]
  },
  {
   "cell_type": "markdown",
   "metadata": {},
   "source": [
    "### Variable 4: book_rating_count"
   ]
  },
  {
   "cell_type": "code",
   "execution_count": 11,
   "metadata": {},
   "outputs": [
    {
     "data": {
      "text/plain": [
       "(0, 400000)"
      ]
     },
     "execution_count": 11,
     "metadata": {},
     "output_type": "execute_result"
    },
    {
     "data": {
      "image/png": "[encoded data removed]",
      "text/plain": [
       "<Figure size 432x288 with 1 Axes>"
      ]
     },
     "metadata": {
      "needs_background": "light"
     },
     "output_type": "display_data"
    }
   ],
   "source": [
    "plt.hist(df.book_rating_count, bins=100)\n",
    "plt.title(\"# of ratings\")\n",
    "plt.xlim([0,400000])"
   ]
  },
  {
   "cell_type": "markdown",
   "metadata": {},
   "source": [
    "Most of the books have 0-50,000 ratings. Very few have more than 50,000 so we can consider those as outliers."
   ]
  },
  {
   "cell_type": "markdown",
   "metadata": {},
   "source": [
    "### Variable 5: title_words"
   ]
  },
  {
   "cell_type": "code",
   "execution_count": 12,
   "metadata": {},
   "outputs": [
    {
     "data": {
      "text/plain": [
       "Text(0.5,1,'# of words in title')"
      ]
     },
     "execution_count": 12,
     "metadata": {},
     "output_type": "execute_result"
    },
    {
     "data": {
      "image/png": "[encoded data removed]",
      "text/plain": [
       "<Figure size 432x288 with 1 Axes>"
      ]
     },
     "metadata": {
      "needs_background": "light"
     },
     "output_type": "display_data"
    }
   ],
   "source": [
    "plt.hist(df.title_words, bins=50)\n",
    "plt.title(\"# of words in title\")"
   ]
  },
  {
   "cell_type": "markdown",
   "metadata": {},
   "source": [
    "Most books have anywhere from 2-5 words. Very few book titles contain more than 10 words, so we can assume those outliers are potentially parts of collections or short stories."
   ]
  },
  {
   "cell_type": "markdown",
   "metadata": {},
   "source": [
    "## MEAN, MODE, SPREAD & TAILS"
   ]
  },
  {
   "cell_type": "markdown",
   "metadata": {},
   "source": [
    "<b>Mean</b>: The central tendency of the distribution<br/>\n",
    "<b>Mode</b>: The value that occurs most often.<br/>\n",
    "<b>Spread</b>: How much variability is there in the values?<br/>\n",
    "<b>Tails</b>: How quickly do the probabilities drop off as we move away from the modes?"
   ]
  },
  {
   "cell_type": "code",
   "execution_count": 13,
   "metadata": {},
   "outputs": [
    {
     "data": {
      "text/html": [
       "<div>\n",
       "<style scoped>\n",
       "    .dataframe tbody tr th:only-of-type {\n",
       "        vertical-align: middle;\n",
       "    }\n",
       "\n",
       "    .dataframe tbody tr th {\n",
       "        vertical-align: top;\n",
       "    }\n",
       "\n",
       "    .dataframe thead th {\n",
       "        text-align: right;\n",
       "    }\n",
       "</style>\n",
       "<table border=\"1\" class=\"dataframe\">\n",
       "  <thead>\n",
       "    <tr style=\"text-align: right;\">\n",
       "      <th></th>\n",
       "      <th>book_authors</th>\n",
       "      <th>number_of_authors</th>\n",
       "      <th>book_desc</th>\n",
       "      <th>book_edition</th>\n",
       "      <th>book_format</th>\n",
       "      <th>book_format_simplified</th>\n",
       "      <th>book_isbn</th>\n",
       "      <th>book_pages</th>\n",
       "      <th>book_rating</th>\n",
       "      <th>book_rating_count</th>\n",
       "      <th>book_review_count</th>\n",
       "      <th>book_title</th>\n",
       "      <th>title_words</th>\n",
       "      <th>genres</th>\n",
       "      <th>image_url</th>\n",
       "    </tr>\n",
       "  </thead>\n",
       "  <tbody>\n",
       "    <tr>\n",
       "      <th>count</th>\n",
       "      <td>50595</td>\n",
       "      <td>50595.000000</td>\n",
       "      <td>49746</td>\n",
       "      <td>5215</td>\n",
       "      <td>50595</td>\n",
       "      <td>50595</td>\n",
       "      <td>39982</td>\n",
       "      <td>50595.000000</td>\n",
       "      <td>50595.000000</td>\n",
       "      <td>5.059500e+04</td>\n",
       "      <td>50595.000000</td>\n",
       "      <td>50595</td>\n",
       "      <td>50595.000000</td>\n",
       "      <td>48090</td>\n",
       "      <td>50297</td>\n",
       "    </tr>\n",
       "    <tr>\n",
       "      <th>unique</th>\n",
       "      <td>25589</td>\n",
       "      <td>NaN</td>\n",
       "      <td>48726</td>\n",
       "      <td>2067</td>\n",
       "      <td>137</td>\n",
       "      <td>5</td>\n",
       "      <td>525</td>\n",
       "      <td>NaN</td>\n",
       "      <td>NaN</td>\n",
       "      <td>NaN</td>\n",
       "      <td>NaN</td>\n",
       "      <td>45174</td>\n",
       "      <td>NaN</td>\n",
       "      <td>28696</td>\n",
       "      <td>50297</td>\n",
       "    </tr>\n",
       "    <tr>\n",
       "      <th>top</th>\n",
       "      <td>Stephen King</td>\n",
       "      <td>NaN</td>\n",
       "      <td>This book was converted from its physical edit...</td>\n",
       "      <td>First Edition</td>\n",
       "      <td>Paperback</td>\n",
       "      <td>Paperback</td>\n",
       "      <td>9.78006E+12</td>\n",
       "      <td>NaN</td>\n",
       "      <td>NaN</td>\n",
       "      <td>NaN</td>\n",
       "      <td>NaN</td>\n",
       "      <td>1984</td>\n",
       "      <td>NaN</td>\n",
       "      <td>Fiction</td>\n",
       "      <td>https://images.gr-assets.com/books/1402067293l...</td>\n",
       "    </tr>\n",
       "    <tr>\n",
       "      <th>freq</th>\n",
       "      <td>110</td>\n",
       "      <td>NaN</td>\n",
       "      <td>16</td>\n",
       "      <td>431</td>\n",
       "      <td>28129</td>\n",
       "      <td>30807</td>\n",
       "      <td>2395</td>\n",
       "      <td>NaN</td>\n",
       "      <td>NaN</td>\n",
       "      <td>NaN</td>\n",
       "      <td>NaN</td>\n",
       "      <td>16</td>\n",
       "      <td>NaN</td>\n",
       "      <td>199</td>\n",
       "      <td>1</td>\n",
       "    </tr>\n",
       "    <tr>\n",
       "      <th>mean</th>\n",
       "      <td>NaN</td>\n",
       "      <td>1.353790</td>\n",
       "      <td>NaN</td>\n",
       "      <td>NaN</td>\n",
       "      <td>NaN</td>\n",
       "      <td>NaN</td>\n",
       "      <td>NaN</td>\n",
       "      <td>339.745825</td>\n",
       "      <td>4.014564</td>\n",
       "      <td>4.562482e+04</td>\n",
       "      <td>2115.233205</td>\n",
       "      <td>NaN</td>\n",
       "      <td>4.171302</td>\n",
       "      <td>NaN</td>\n",
       "      <td>NaN</td>\n",
       "    </tr>\n",
       "    <tr>\n",
       "      <th>std</th>\n",
       "      <td>NaN</td>\n",
       "      <td>1.364632</td>\n",
       "      <td>NaN</td>\n",
       "      <td>NaN</td>\n",
       "      <td>NaN</td>\n",
       "      <td>NaN</td>\n",
       "      <td>NaN</td>\n",
       "      <td>258.181953</td>\n",
       "      <td>0.341158</td>\n",
       "      <td>2.179478e+05</td>\n",
       "      <td>7819.156309</td>\n",
       "      <td>NaN</td>\n",
       "      <td>3.324114</td>\n",
       "      <td>NaN</td>\n",
       "      <td>NaN</td>\n",
       "    </tr>\n",
       "    <tr>\n",
       "      <th>min</th>\n",
       "      <td>NaN</td>\n",
       "      <td>1.000000</td>\n",
       "      <td>NaN</td>\n",
       "      <td>NaN</td>\n",
       "      <td>NaN</td>\n",
       "      <td>NaN</td>\n",
       "      <td>NaN</td>\n",
       "      <td>1.000000</td>\n",
       "      <td>0.000000</td>\n",
       "      <td>0.000000e+00</td>\n",
       "      <td>0.000000</td>\n",
       "      <td>NaN</td>\n",
       "      <td>1.000000</td>\n",
       "      <td>NaN</td>\n",
       "      <td>NaN</td>\n",
       "    </tr>\n",
       "    <tr>\n",
       "      <th>25%</th>\n",
       "      <td>NaN</td>\n",
       "      <td>1.000000</td>\n",
       "      <td>NaN</td>\n",
       "      <td>NaN</td>\n",
       "      <td>NaN</td>\n",
       "      <td>NaN</td>\n",
       "      <td>NaN</td>\n",
       "      <td>220.000000</td>\n",
       "      <td>3.820000</td>\n",
       "      <td>5.200000e+02</td>\n",
       "      <td>43.000000</td>\n",
       "      <td>NaN</td>\n",
       "      <td>2.000000</td>\n",
       "      <td>NaN</td>\n",
       "      <td>NaN</td>\n",
       "    </tr>\n",
       "    <tr>\n",
       "      <th>50%</th>\n",
       "      <td>NaN</td>\n",
       "      <td>1.000000</td>\n",
       "      <td>NaN</td>\n",
       "      <td>NaN</td>\n",
       "      <td>NaN</td>\n",
       "      <td>NaN</td>\n",
       "      <td>NaN</td>\n",
       "      <td>311.000000</td>\n",
       "      <td>4.020000</td>\n",
       "      <td>3.208000e+03</td>\n",
       "      <td>214.000000</td>\n",
       "      <td>NaN</td>\n",
       "      <td>3.000000</td>\n",
       "      <td>NaN</td>\n",
       "      <td>NaN</td>\n",
       "    </tr>\n",
       "    <tr>\n",
       "      <th>75%</th>\n",
       "      <td>NaN</td>\n",
       "      <td>1.000000</td>\n",
       "      <td>NaN</td>\n",
       "      <td>NaN</td>\n",
       "      <td>NaN</td>\n",
       "      <td>NaN</td>\n",
       "      <td>NaN</td>\n",
       "      <td>401.000000</td>\n",
       "      <td>4.210000</td>\n",
       "      <td>1.403250e+04</td>\n",
       "      <td>897.000000</td>\n",
       "      <td>NaN</td>\n",
       "      <td>5.000000</td>\n",
       "      <td>NaN</td>\n",
       "      <td>NaN</td>\n",
       "    </tr>\n",
       "    <tr>\n",
       "      <th>max</th>\n",
       "      <td>NaN</td>\n",
       "      <td>51.000000</td>\n",
       "      <td>NaN</td>\n",
       "      <td>NaN</td>\n",
       "      <td>NaN</td>\n",
       "      <td>NaN</td>\n",
       "      <td>NaN</td>\n",
       "      <td>14777.000000</td>\n",
       "      <td>5.000000</td>\n",
       "      <td>5.588580e+06</td>\n",
       "      <td>160776.000000</td>\n",
       "      <td>NaN</td>\n",
       "      <td>41.000000</td>\n",
       "      <td>NaN</td>\n",
       "      <td>NaN</td>\n",
       "    </tr>\n",
       "  </tbody>\n",
       "</table>\n",
       "</div>"
      ],
      "text/plain": [
       "        book_authors  number_of_authors  \\\n",
       "count          50595       50595.000000   \n",
       "unique         25589                NaN   \n",
       "top     Stephen King                NaN   \n",
       "freq             110                NaN   \n",
       "mean             NaN           1.353790   \n",
       "std              NaN           1.364632   \n",
       "min              NaN           1.000000   \n",
       "25%              NaN           1.000000   \n",
       "50%              NaN           1.000000   \n",
       "75%              NaN           1.000000   \n",
       "max              NaN          51.000000   \n",
       "\n",
       "                                                book_desc   book_edition  \\\n",
       "count                                               49746           5215   \n",
       "unique                                              48726           2067   \n",
       "top     This book was converted from its physical edit...  First Edition   \n",
       "freq                                                   16            431   \n",
       "mean                                                  NaN            NaN   \n",
       "std                                                   NaN            NaN   \n",
       "min                                                   NaN            NaN   \n",
       "25%                                                   NaN            NaN   \n",
       "50%                                                   NaN            NaN   \n",
       "75%                                                   NaN            NaN   \n",
       "max                                                   NaN            NaN   \n",
       "\n",
       "       book_format book_format_simplified    book_isbn    book_pages  \\\n",
       "count        50595                  50595        39982  50595.000000   \n",
       "unique         137                      5          525           NaN   \n",
       "top      Paperback              Paperback  9.78006E+12           NaN   \n",
       "freq         28129                  30807         2395           NaN   \n",
       "mean           NaN                    NaN          NaN    339.745825   \n",
       "std            NaN                    NaN          NaN    258.181953   \n",
       "min            NaN                    NaN          NaN      1.000000   \n",
       "25%            NaN                    NaN          NaN    220.000000   \n",
       "50%            NaN                    NaN          NaN    311.000000   \n",
       "75%            NaN                    NaN          NaN    401.000000   \n",
       "max            NaN                    NaN          NaN  14777.000000   \n",
       "\n",
       "         book_rating  book_rating_count  book_review_count book_title  \\\n",
       "count   50595.000000       5.059500e+04       50595.000000      50595   \n",
       "unique           NaN                NaN                NaN      45174   \n",
       "top              NaN                NaN                NaN       1984   \n",
       "freq             NaN                NaN                NaN         16   \n",
       "mean        4.014564       4.562482e+04        2115.233205        NaN   \n",
       "std         0.341158       2.179478e+05        7819.156309        NaN   \n",
       "min         0.000000       0.000000e+00           0.000000        NaN   \n",
       "25%         3.820000       5.200000e+02          43.000000        NaN   \n",
       "50%         4.020000       3.208000e+03         214.000000        NaN   \n",
       "75%         4.210000       1.403250e+04         897.000000        NaN   \n",
       "max         5.000000       5.588580e+06      160776.000000        NaN   \n",
       "\n",
       "         title_words   genres  \\\n",
       "count   50595.000000    48090   \n",
       "unique           NaN    28696   \n",
       "top              NaN  Fiction   \n",
       "freq             NaN      199   \n",
       "mean        4.171302      NaN   \n",
       "std         3.324114      NaN   \n",
       "min         1.000000      NaN   \n",
       "25%         2.000000      NaN   \n",
       "50%         3.000000      NaN   \n",
       "75%         5.000000      NaN   \n",
       "max        41.000000      NaN   \n",
       "\n",
       "                                                image_url  \n",
       "count                                               50297  \n",
       "unique                                              50297  \n",
       "top     https://images.gr-assets.com/books/1402067293l...  \n",
       "freq                                                    1  \n",
       "mean                                                  NaN  \n",
       "std                                                   NaN  \n",
       "min                                                   NaN  \n",
       "25%                                                   NaN  \n",
       "50%                                                   NaN  \n",
       "75%                                                   NaN  \n",
       "max                                                   NaN  "
      ]
     },
     "execution_count": 13,
     "metadata": {},
     "output_type": "execute_result"
    }
   ],
   "source": [
    "# Mean\n",
    "MEAN_number_of_authors = df[\"number_of_authors\"].mean()\n",
    "#MEAN_book_format_simplified = df[\"book_format_simplified\"].mean()\n",
    "MEAN_book_pages = df[\"book_pages\"].mean()\n",
    "MEAN_book_book_rating_count = df[\"book_rating_count\"].mean()\n",
    "MEAN_title_words = df[\"title_words\"].mean()\n",
    "\n",
    "# Mode\n",
    "MODE_number_of_authors = df[\"number_of_authors\"].mode()\n",
    "#MODE_book_format_simplified = df[\"book_format_simplified\"].mode()\n",
    "MODE_book_pages = df[\"book_pages\"].mode()\n",
    "MODE_book_book_rating_count = df[\"book_rating_count\"].mode()\n",
    "MODE_title_words = df[\"title_words\"].mode()\n",
    "\n",
    "# Spread (variance)\n",
    "VAR_number_of_authors = df[\"number_of_authors\"].var()\n",
    "#VAR_book_format_simplified = df[\"book_format_simplified\"].var()\n",
    "VAR_book_pages = df[\"book_pages\"].var()\n",
    "VAR_book_book_rating_count = df[\"book_rating_count\"].var()\n",
    "VAR_title_words = df[\"title_words\"].var()\n",
    "\n",
    "# Summarized view: Below we can see the mean and mode (labeled 'top') for each\n",
    "# of these variables.\n",
    "df.describe(include='all')"
   ]
  },
  {
   "cell_type": "markdown",
   "metadata": {},
   "source": [
    "## PMF (Probability Mass Function)<br/>\n",
    "I'm going to plot the ratings that the books received."
   ]
  },
  {
   "cell_type": "code",
   "execution_count": 14,
   "metadata": {},
   "outputs": [
    {
     "data": {
      "text/plain": [
       "<matplotlib.legend.Legend at 0x14e3537c390>"
      ]
     },
     "execution_count": 14,
     "metadata": {},
     "output_type": "execute_result"
    },
    {
     "data": {
      "image/png": "[encoded data removed]",
      "text/plain": [
       "<Figure size 432x288 with 1 Axes>"
      ]
     },
     "metadata": {
      "needs_background": "light"
     },
     "output_type": "display_data"
    }
   ],
   "source": [
    "hist_rating = thinkstats2.Hist(df.book_rating, label='Rating')\n",
    "\n",
    "thinkplot.Hist(hist_rating)\n",
    "thinkplot.Config(xlabel='Rating', ylabel='Count')\n",
    "plt.legend(loc='upper left')"
   ]
  },
  {
   "cell_type": "markdown",
   "metadata": {},
   "source": [
    "<b>Fixing 'book_rating'</b><br/>\n",
    "\n",
    "Viewing the PMF for this data would generate a very large list. To simplyify things, I will reduce the amount of plot ticks. This may slightly throw off the PMF number, but I anticipate it will be by a very small factor that is still approximately equal to '1'. Two decimal places is a bit too specific for this project, and since most ratings are entered in either half or whole number increments, I'll round to the nearest half number."
   ]
  },
  {
   "cell_type": "code",
   "execution_count": 15,
   "metadata": {},
   "outputs": [],
   "source": [
    "df['book_rating_rounded']= round(df['book_rating']*2)/2"
   ]
  },
  {
   "cell_type": "markdown",
   "metadata": {},
   "source": [
    "Replotting the histogram after rounding"
   ]
  },
  {
   "cell_type": "code",
   "execution_count": 16,
   "metadata": {},
   "outputs": [
    {
     "data": {
      "text/plain": [
       "<matplotlib.legend.Legend at 0x14e379f47b8>"
      ]
     },
     "execution_count": 16,
     "metadata": {},
     "output_type": "execute_result"
    },
    {
     "data": {
      "image/png": "[encoded data removed]",
      "text/plain": [
       "<Figure size 432x288 with 1 Axes>"
      ]
     },
     "metadata": {
      "needs_background": "light"
     },
     "output_type": "display_data"
    }
   ],
   "source": [
    "hist_rounded = thinkstats2.Hist(df.book_rating_rounded, label='Rating (rounded)')\n",
    "\n",
    "thinkplot.Hist(hist_rounded)\n",
    "thinkplot.Config(xlabel='Rating (rounded)', ylabel='Count')\n",
    "plt.legend(loc='upper left')"
   ]
  },
  {
   "cell_type": "markdown",
   "metadata": {},
   "source": [
    "Get the PMF by normalizing the distribution, by dividing through the total count."
   ]
  },
  {
   "cell_type": "code",
   "execution_count": 17,
   "metadata": {},
   "outputs": [
    {
     "data": {
      "text/plain": [
       "Pmf({4.0: 0.6227888131238264, 4.5: 0.18379286490759955, 3.5: 0.15995651744243503, 5.0: 0.01913232532858978, 3.0: 0.012273940112659353, 2.5: 0.0009684751457653918, 0.0: 0.0008894159501927067, 2.0: 0.00013835359225219883, 1.5: 3.952959778634252e-05, 1.0: 1.976479889317126e-05}, 'Rating (rounded)')"
      ]
     },
     "execution_count": 17,
     "metadata": {},
     "output_type": "execute_result"
    }
   ],
   "source": [
    "pmf = thinkstats2.Pmf(hist_rounded)\n",
    "pmf"
   ]
  },
  {
   "cell_type": "code",
   "execution_count": 18,
   "metadata": {},
   "outputs": [
    {
     "data": {
      "text/plain": [
       "0.9999999999999998"
      ]
     },
     "execution_count": 18,
     "metadata": {},
     "output_type": "execute_result"
    }
   ],
   "source": [
    "# Sum of probabilities\n",
    "pmf.Total()"
   ]
  },
  {
   "cell_type": "markdown",
   "metadata": {},
   "source": [
    "As expected, rounding slightly changed our total PMF, but the difference is so small that the number is approximately '1'."
   ]
  },
  {
   "cell_type": "markdown",
   "metadata": {},
   "source": [
    "For easier viewing, I've decided to split up the ratings by high and low. Since the rating scale is 0-5, we will consider 4.0 to be the divider between what is considered high and low ratings."
   ]
  },
  {
   "cell_type": "code",
   "execution_count": 19,
   "metadata": {},
   "outputs": [],
   "source": [
    "# high rating\n",
    "df_highRating = df.book_rating[df['book_rating'] >= 4.0]\n",
    "# low rating\n",
    "df_lowRating = df.book_rating[df['book_rating'] < 4.0]"
   ]
  },
  {
   "cell_type": "code",
   "execution_count": 20,
   "metadata": {},
   "outputs": [
    {
     "data": {
      "image/png": "[encoded data removed]",
      "text/plain": [
       "<Figure size 432x288 with 1 Axes>"
      ]
     },
     "metadata": {
      "needs_background": "light"
     },
     "output_type": "display_data"
    }
   ],
   "source": [
    "# Using Pyplot's \"hist\" to plot a histogram of a sequence of values\n",
    "plt.hist(df_highRating, bins=50, label=\"High Rating\")\n",
    "plt.hist(df_lowRating, bins=50, label=\"Low Rating\")\n",
    "plt.legend(loc='upper left')\n",
    "plt.show()"
   ]
  },
  {
   "cell_type": "markdown",
   "metadata": {},
   "source": [
    "Based on this figure, there are more books rated less than 4.0 than there are rated higher than 4.0."
   ]
  },
  {
   "cell_type": "code",
   "execution_count": 21,
   "metadata": {},
   "outputs": [
    {
     "data": {
      "text/plain": [
       "Pmf({4.0: 0.0330669403915243, 4.13: 0.026871471515507003, 4.07: 0.026688173619766845, 4.06: 0.02624825866999047, 4.1: 0.025918322457658186, 4.09: 0.025588386245325903, 4.08: 0.02525845003299362, 4.03: 0.024561918029181024, 4.16: 0.024525258450032995, 4.05: 0.0244152797125889, 4.12: 0.02419532223770071, 4.17: 0.023975364762812524, 4.14: 0.02393870518366449, 4.04: 0.0238287264462204, 4.18: 0.023718747708776303, 4.02: 0.02364542855048024, 5.0: 0.023608768971332208, 4.2: 0.023462130654740083, 4.11: 0.02338881149644402, 4.15: 0.022985556125815675, 4.21: 0.022508981596891266, 4.22: 0.022399002859447174, 4.01: 0.02228902412200308, 4.19: 0.020859300535229854, 4.25: 0.02041938558545348, 4.29: 0.019576215265048758, 4.24: 0.019539555685900725, 4.23: 0.019319598211012538, 4.27: 0.018036512940831438, 4.26: 0.017926534203387346, 4.33: 0.017083363882982622, 4.3: 0.016936725566390497, 4.28: 0.01587359777109759, 4.31: 0.01484712955495271, 4.32: 0.01352738470562358, 4.36: 0.013014150597551141, 4.34: 0.012097661118850356, 4.35: 0.011841044064814135, 4.38: 0.010961214165261383, 4.37: 0.010521299215485006, 4.4: 0.009678128895080285, 4.5: 0.009384852261896033, 4.39: 0.009384852261896033, 4.43: 0.008431703204047217, 4.42: 0.008138426570862967, 4.45: 0.00744189456705037, 4.44: 0.007001979617273993, 4.46: 0.006855341300681868, 4.41: 0.006708702984089742, 4.48: 0.006562064667497617, 4.47: 0.006048830559425178, 4.49: 0.004399149497763766, 4.67: 0.00425251118117164, 4.53: 0.004179192022875577, 4.52: 0.004032553706283452, 4.54: 0.003959234547987389, 4.55: 0.0036292983356551066, 4.51: 0.0036292983356551066, 4.56: 0.0034093408607669185, 4.58: 0.003372681281618887, 4.57: 0.003262702544174793, 4.6: 0.003152723806730699, 4.59: 0.003079404648434636, 4.62: 0.0024195322237700713, 4.75: 0.0023462130654740084, 4.61: 0.0021629151697338516, 4.63: 0.0020895960114377886, 4.64: 0.0019796172739936944, 4.65: 0.0016863406408094434, 4.71: 0.0014663831659212552, 4.69: 0.0013564044284771612, 4.68: 0.0012097661118850357, 4.8: 0.0011731065327370042, 4.66: 0.0010997873744409414, 4.7: 0.00106312779529291, 4.78: 0.0010264682161448787, 4.83: 0.0009898086369968472, 4.73: 0.0008798298995527532, 4.77: 0.0008798298995527532, 4.89: 0.000769851162108659, 4.72: 0.000769851162108659, 4.79: 0.0006598724246645648, 4.76: 0.0006232128455165335, 4.86: 0.0005132341080724393, 4.74: 0.00047657452892440797, 4.81: 0.0004399149497763766, 4.82: 0.00040325537062834517, 4.88: 0.0003665957914803138, 4.85: 0.0003665957914803138, 4.84: 0.00025661705403621967, 4.87: 0.00025661705403621967, 4.9: 0.00025661705403621967, 4.93: 0.00014663831659212552, 4.92: 0.00010997873744409415, 4.96: 7.331915829606276e-05, 4.94: 7.331915829606276e-05, 4.91: 7.331915829606276e-05, 4.95: 3.665957914803138e-05, 4.97: 3.665957914803138e-05})"
      ]
     },
     "execution_count": 21,
     "metadata": {},
     "output_type": "execute_result"
    }
   ],
   "source": [
    "# Using the thinkstats2 module\n",
    "thinkstats2.Pmf(df_highRating)"
   ]
  },
  {
   "cell_type": "markdown",
   "metadata": {},
   "source": [
    "## CDF (Cumulative Distribution Function)<br/>\n",
    "I am using the <b>book_pages</b> variable to determine if there is a community-favorite 'sweet spot' for page length that might generate better ratings."
   ]
  },
  {
   "cell_type": "code",
   "execution_count": 22,
   "metadata": {},
   "outputs": [
    {
     "data": {
      "image/png": "[encoded data removed]",
      "text/plain": [
       "<Figure size 432x288 with 1 Axes>"
      ]
     },
     "metadata": {
      "needs_background": "light"
     },
     "output_type": "display_data"
    },
    {
     "data": {
      "text/plain": [
       "<Figure size 576x432 with 0 Axes>"
      ]
     },
     "metadata": {},
     "output_type": "display_data"
    }
   ],
   "source": [
    "cdf = thinkstats2.Cdf(df.book_pages)\n",
    "thinkplot.Cdf(cdf)\n",
    "thinkplot.Show(xlabel='Page Length', ylabel='CDF', axis=[0, 1500, 0, 1])"
   ]
  },
  {
   "cell_type": "markdown",
   "metadata": {},
   "source": [
    "It appears that approximately 90% of books have 600 pages or less. The graph is mostly smooth from page length 0-600, indicating that there is not a prefered page length in that range. Less than 5% of books are over 800 pages, and likewise less than 5% are under 100 pages."
   ]
  },
  {
   "cell_type": "markdown",
   "metadata": {},
   "source": [
    "## ANALYTICAL DISTRIBUTION<br/>\n",
    "I'd like to plot the normal distribution for the book ratings."
   ]
  },
  {
   "cell_type": "code",
   "execution_count": 23,
   "metadata": {},
   "outputs": [
    {
     "data": {
      "image/png": "[encoded data removed]",
      "text/plain": [
       "<Figure size 432x288 with 1 Axes>"
      ]
     },
     "metadata": {
      "needs_background": "light"
     },
     "output_type": "display_data"
    }
   ],
   "source": [
    "def MakeNormalPlot(book_ratings):\n",
    "    mean = df[\"book_rating\"].mean()\n",
    "    std =  df[\"book_rating\"].std()\n",
    "    \n",
    "    xs = [-4, 4]\n",
    "    fxs, fys = thinkstats2.FitLine(xs, inter=mean, slope=std)\n",
    "    thinkplot.Plot(fxs, fys, color='gray', label='model')\n",
    "    \n",
    "    xs,ys = thinkstats2.NormalProbability(df.book_rating)\n",
    "    thinkplot.Plot(xs,ys, label='Model')\n",
    "    \n",
    "MakeNormalPlot(df.book_rating)"
   ]
  },
  {
   "cell_type": "markdown",
   "metadata": {},
   "source": [
    "My model (gray) and the data (blue) are very similar, but there is a slight difference at the extremes. Really low ratings are lower than the model predicted, and really high ratings are slightly higher than it predicted."
   ]
  },
  {
   "cell_type": "markdown",
   "metadata": {},
   "source": [
    "## SCATTERPLOTS<br/>\n",
    "I want to compare two variables to the overall rating, page length (<b>book_pages</b>) and the number of ratings (<b>book_rating_count</b>). For page length, I'm removing books with 0 pages. "
   ]
  },
  {
   "cell_type": "code",
   "execution_count": 24,
   "metadata": {},
   "outputs": [
    {
     "data": {
      "image/png": "[encoded data removed]",
      "text/plain": [
       "<Figure size 432x288 with 1 Axes>"
      ]
     },
     "metadata": {
      "needs_background": "light"
     },
     "output_type": "display_data"
    },
    {
     "data": {
      "image/png": "[encoded data removed]",
      "text/plain": [
       "<Figure size 432x288 with 1 Axes>"
      ]
     },
     "metadata": {
      "needs_background": "light"
     },
     "output_type": "display_data"
    }
   ],
   "source": [
    "axis = plt.gca()\n",
    "axis.set_xlim([0,2000])\n",
    "scatterPages = df.plot.scatter(x='book_pages', y='book_rating', ax=axis, alpha=0.2)\n",
    "scatterRatingCount = df.plot.scatter(x='title_words', y='book_rating', alpha=0.2)"
   ]
  },
  {
   "cell_type": "markdown",
   "metadata": {},
   "source": [
    "From the first graph, it appears that a book's rating has a <b>weak positive</b> correlation with the page length. From the second graph, it seems that a book's rating has a <b>weak positive</b> correlation with the number of words in the title. From this, we can say that a book's rating is slightly affected by the page length and the number of words in the title."
   ]
  },
  {
   "cell_type": "markdown",
   "metadata": {},
   "source": [
    "## HYPOTHESIS TEST<br/>\n",
    "\n",
    "I want to determine whether the effects I've seen in the sample are likely to appear in the larger population.\n",
    "\n",
    "Test statistic: Difference in means (of page length) between books with a high rating (4.0 or higher) and a low rating (less than 4.0)."
   ]
  },
  {
   "cell_type": "code",
   "execution_count": 25,
   "metadata": {},
   "outputs": [
    {
     "name": "stdout",
     "output_type": "stream",
     "text": [
      "Mean Rating (750+ pages): 4.318529607451765\n",
      "Mean Rating (less than 750 pages): 3.7466573973495962\n"
     ]
    }
   ],
   "source": [
    "# high rating\n",
    "df_highRating = df[df['book_rating'] >= 4.0]\n",
    "# low rating\n",
    "df_lowRating = df[df['book_rating'] < 4.0]\n",
    "\n",
    "# high rating\n",
    "df_highRating_means = df_highRating.book_rating[df['book_pages'] >= 750].mean()\n",
    "# low rating\n",
    "df_lowRating_means = df_lowRating.book_rating[df['book_pages'] < 750].mean()\n",
    "\n",
    "print(\"Mean Rating (750+ pages): {}\".format(df_highRating_means))\n",
    "print(\"Mean Rating (less than 750 pages): {}\".format(df_lowRating_means))"
   ]
  },
  {
   "cell_type": "markdown",
   "metadata": {},
   "source": [
    "To check whether an observed correlation is statistically significant, we can run a permutation test with a different test statistic."
   ]
  },
  {
   "cell_type": "code",
   "execution_count": 26,
   "metadata": {},
   "outputs": [],
   "source": [
    "class CorrelationPermute(thinkstats2.HypothesisTest):\n",
    "\n",
    "    def TestStatistic(self, data):\n",
    "        xs, ys = data\n",
    "        test_stat = abs(thinkstats2.Corr(xs, ys))\n",
    "        return(test_stat)\n",
    "\n",
    "    def RunModel(self):\n",
    "        xs, ys = self.data\n",
    "        xs = np.random.permutation(xs)\n",
    "        return(xs, ys)"
   ]
  },
  {
   "cell_type": "code",
   "execution_count": 27,
   "metadata": {},
   "outputs": [
    {
     "data": {
      "text/plain": [
       "0.0"
      ]
     },
     "execution_count": 27,
     "metadata": {},
     "output_type": "execute_result"
    }
   ],
   "source": [
    "# Correlation between highly rated books, and lower rated books\n",
    "data = df.book_pages.values, df.book_rating.values\n",
    "ht = CorrelationPermute(data)\n",
    "pvalue = ht.PValue()\n",
    "pvalue"
   ]
  },
  {
   "cell_type": "markdown",
   "metadata": {},
   "source": [
    "The reported p-value is 0, which means that we didn't see a correlation, under the null hypothesis, that exceeded the observed correlation. We can see how unexpected the observed value is under the null hypothesis by comparing the actual correlation to the largest value we saw in the simulation."
   ]
  },
  {
   "cell_type": "code",
   "execution_count": 28,
   "metadata": {},
   "outputs": [
    {
     "data": {
      "text/plain": [
       "(0.12425034401665135, 0.017890205022071906)"
      ]
     },
     "execution_count": 28,
     "metadata": {},
     "output_type": "execute_result"
    }
   ],
   "source": [
    "ht.actual, ht.MaxTestStat()"
   ]
  },
  {
   "cell_type": "markdown",
   "metadata": {},
   "source": [
    "## REGRESSION ANALYSIS<br/>\n",
    "\n",
    "I want to describe the relationship between a dependent variable (book_rating) and several independent variables (book_pages, title_words, book_rating_count).\n",
    "Test statistic: Difference in means (of page length) between books with a high rating (4.0 or higher) and a low rating (less than 4.0)."
   ]
  },
  {
   "cell_type": "code",
   "execution_count": 29,
   "metadata": {},
   "outputs": [
    {
     "data": {
      "text/html": [
       "<table class=\"simpletable\">\n",
       "<caption>OLS Regression Results</caption>\n",
       "<tr>\n",
       "  <th>Dep. Variable:</th>       <td>book_rating</td>   <th>  R-squared:         </th> <td>   0.029</td> \n",
       "</tr>\n",
       "<tr>\n",
       "  <th>Model:</th>                   <td>OLS</td>       <th>  Adj. R-squared:    </th> <td>   0.029</td> \n",
       "</tr>\n",
       "<tr>\n",
       "  <th>Method:</th>             <td>Least Squares</td>  <th>  F-statistic:       </th> <td>   498.2</td> \n",
       "</tr>\n",
       "<tr>\n",
       "  <th>Date:</th>             <td>Wed, 07 Aug 2019</td> <th>  Prob (F-statistic):</th> <td>4.43e-319</td>\n",
       "</tr>\n",
       "<tr>\n",
       "  <th>Time:</th>                 <td>15:04:02</td>     <th>  Log-Likelihood:    </th> <td> -16644.</td> \n",
       "</tr>\n",
       "<tr>\n",
       "  <th>No. Observations:</th>      <td> 50595</td>      <th>  AIC:               </th> <td>3.330e+04</td>\n",
       "</tr>\n",
       "<tr>\n",
       "  <th>Df Residuals:</th>          <td> 50591</td>      <th>  BIC:               </th> <td>3.333e+04</td>\n",
       "</tr>\n",
       "<tr>\n",
       "  <th>Df Model:</th>              <td>     3</td>      <th>                     </th>     <td> </td>    \n",
       "</tr>\n",
       "<tr>\n",
       "  <th>Covariance Type:</th>      <td>nonrobust</td>    <th>                     </th>     <td> </td>    \n",
       "</tr>\n",
       "</table>\n",
       "<table class=\"simpletable\">\n",
       "<tr>\n",
       "          <td></td>             <th>coef</th>     <th>std err</th>      <th>t</th>      <th>P>|t|</th>  <th>[0.025</th>    <th>0.975]</th>  \n",
       "</tr>\n",
       "<tr>\n",
       "  <th>Intercept</th>         <td>    3.9098</td> <td>    0.003</td> <td> 1249.994</td> <td> 0.000</td> <td>    3.904</td> <td>    3.916</td>\n",
       "</tr>\n",
       "<tr>\n",
       "  <th>book_pages</th>        <td>    0.0002</td> <td>  5.8e-06</td> <td>   28.067</td> <td> 0.000</td> <td>    0.000</td> <td>    0.000</td>\n",
       "</tr>\n",
       "<tr>\n",
       "  <th>title_words</th>       <td>    0.0111</td> <td>    0.000</td> <td>   24.651</td> <td> 0.000</td> <td>    0.010</td> <td>    0.012</td>\n",
       "</tr>\n",
       "<tr>\n",
       "  <th>book_rating_count</th> <td> 7.078e-08</td> <td> 6.87e-09</td> <td>   10.298</td> <td> 0.000</td> <td> 5.73e-08</td> <td> 8.43e-08</td>\n",
       "</tr>\n",
       "</table>\n",
       "<table class=\"simpletable\">\n",
       "<tr>\n",
       "  <th>Omnibus:</th>       <td>23231.120</td> <th>  Durbin-Watson:     </th>  <td>   1.949</td> \n",
       "</tr>\n",
       "<tr>\n",
       "  <th>Prob(Omnibus):</th>  <td> 0.000</td>   <th>  Jarque-Bera (JB):  </th> <td>788228.382</td>\n",
       "</tr>\n",
       "<tr>\n",
       "  <th>Skew:</th>           <td>-1.572</td>   <th>  Prob(JB):          </th>  <td>    0.00</td> \n",
       "</tr>\n",
       "<tr>\n",
       "  <th>Kurtosis:</th>       <td>22.079</td>   <th>  Cond. No.          </th>  <td>4.68e+05</td> \n",
       "</tr>\n",
       "</table><br/><br/>Warnings:<br/>[1] Standard Errors assume that the covariance matrix of the errors is correctly specified.<br/>[2] The condition number is large, 4.68e+05. This might indicate that there are<br/>strong multicollinearity or other numerical problems."
      ],
      "text/plain": [
       "<class 'statsmodels.iolib.summary.Summary'>\n",
       "\"\"\"\n",
       "                            OLS Regression Results                            \n",
       "==============================================================================\n",
       "Dep. Variable:            book_rating   R-squared:                       0.029\n",
       "Model:                            OLS   Adj. R-squared:                  0.029\n",
       "Method:                 Least Squares   F-statistic:                     498.2\n",
       "Date:                Wed, 07 Aug 2019   Prob (F-statistic):          4.43e-319\n",
       "Time:                        15:04:02   Log-Likelihood:                -16644.\n",
       "No. Observations:               50595   AIC:                         3.330e+04\n",
       "Df Residuals:                   50591   BIC:                         3.333e+04\n",
       "Df Model:                           3                                         \n",
       "Covariance Type:            nonrobust                                         \n",
       "=====================================================================================\n",
       "                        coef    std err          t      P>|t|      [0.025      0.975]\n",
       "-------------------------------------------------------------------------------------\n",
       "Intercept             3.9098      0.003   1249.994      0.000       3.904       3.916\n",
       "book_pages            0.0002    5.8e-06     28.067      0.000       0.000       0.000\n",
       "title_words           0.0111      0.000     24.651      0.000       0.010       0.012\n",
       "book_rating_count  7.078e-08   6.87e-09     10.298      0.000    5.73e-08    8.43e-08\n",
       "==============================================================================\n",
       "Omnibus:                    23231.120   Durbin-Watson:                   1.949\n",
       "Prob(Omnibus):                  0.000   Jarque-Bera (JB):           788228.382\n",
       "Skew:                          -1.572   Prob(JB):                         0.00\n",
       "Kurtosis:                      22.079   Cond. No.                     4.68e+05\n",
       "==============================================================================\n",
       "\n",
       "Warnings:\n",
       "[1] Standard Errors assume that the covariance matrix of the errors is correctly specified.\n",
       "[2] The condition number is large, 4.68e+05. This might indicate that there are\n",
       "strong multicollinearity or other numerical problems.\n",
       "\"\"\""
      ]
     },
     "execution_count": 29,
     "metadata": {},
     "output_type": "execute_result"
    }
   ],
   "source": [
    "import statsmodels.formula.api as smf\n",
    "\n",
    "formula = 'book_rating ~ book_pages + title_words + book_rating_count'\n",
    "results = smf.ols(formula, data = df).fit()\n",
    "\n",
    "results.summary()"
   ]
  },
  {
   "cell_type": "code",
   "execution_count": 30,
   "metadata": {},
   "outputs": [
    {
     "name": "stdout",
     "output_type": "stream",
     "text": [
      "0.00016266631215288178\n",
      "0.011099350093493086\n",
      "7.078485656505614e-08\n"
     ]
    }
   ],
   "source": [
    "slope1 = results.params['book_pages']\n",
    "slope2 = results.params['title_words']\n",
    "slope3 = results.params['book_rating_count']\n",
    "print(slope1)\n",
    "print(slope2)\n",
    "print(slope3)"
   ]
  },
  {
   "cell_type": "code",
   "execution_count": 31,
   "metadata": {},
   "outputs": [
    {
     "data": {
      "text/plain": [
       "0.495101747178452"
      ]
     },
     "execution_count": 31,
     "metadata": {},
     "output_type": "execute_result"
    }
   ],
   "source": [
    "# Difference in ratings\n",
    "diff_rating = df_highRating.book_rating.mean()- df_lowRating.book_rating.mean()\n",
    "diff_rating"
   ]
  },
  {
   "cell_type": "markdown",
   "metadata": {},
   "source": [
    "From these numbers, we can conclude that the difference in ratings can be partly explained by the difference in the page length, number of words in the title, and the number of ratings a book receives. The largest factor of the three is the number of words in the title."
   ]
  }
 ],
 "metadata": {
  "kernelspec": {
   "display_name": "Python 3",
   "language": "python",
   "name": "python3"
  },
  "language_info": {
   "codemirror_mode": {
    "name": "ipython",
    "version": 3
   },
   "file_extension": ".py",
   "mimetype": "text/x-python",
   "name": "python",
   "nbconvert_exporter": "python",
   "pygments_lexer": "ipython3",
   "version": "3.7.0"
  }
 },
 "nbformat": 4,
 "nbformat_minor": 2
}
